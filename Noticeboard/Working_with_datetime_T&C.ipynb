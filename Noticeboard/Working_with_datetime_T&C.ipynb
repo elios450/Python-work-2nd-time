{
  "nbformat": 4,
  "nbformat_minor": 0,
  "metadata": {
    "colab": {
      "provenance": [],
      "include_colab_link": true
    },
    "kernelspec": {
      "name": "python3",
      "display_name": "Python 3"
    },
    "language_info": {
      "name": "python"
    }
  },
  "cells": [
    {
      "cell_type": "markdown",
      "metadata": {
        "id": "view-in-github",
        "colab_type": "text"
      },
      "source": [
        "<a href=\"https://colab.research.google.com/github/elios450/Python-work-2nd-time/blob/main/Noticeboard/Working_with_datetime_T%26C.ipynb\" target=\"_parent\"><img src=\"https://colab.research.google.com/assets/colab-badge.svg\" alt=\"Open In Colab\"/></a>"
      ]
    },
    {
      "cell_type": "markdown",
      "metadata": {
        "id": "7iQyKP-SQiw1"
      },
      "source": [
        "# User-defined functions using datetime library\n",
        "\n",
        "---\n"
      ]
    },
    {
      "cell_type": "markdown",
      "metadata": {
        "id": "Vi93h5I4QnKs"
      },
      "source": [
        "When working with dates and times, fairly common in data sets, we need to be able to extract certain bits of information.  \n",
        "\n",
        "In Python, as with other languages, dates and times are stored in a data structure that combines the two together and stores the information as a number of seconds since a start point (often 1st January 1900).  This is obviously a large number but every bit of information about a date can be extracted from it and used to give a wide range of information.  \n",
        "\n",
        "Have a go at the exercises below to use a selection of datetime functions and return a new bit of data from each, to be printed by the caller.\n",
        "\n",
        "Before you can use datetime functions you will need to import them. Import the datetime functions like this:\n",
        "\n",
        "`from datetime import datetime`  \n",
        "\n",
        "\n",
        "For more information about datetime functions visit [w3Schools-Python datetime](https://www.w3schools.com/python/python_datetime.asp) and [Python docs](https://docs.python.org/3/library/datetime.html)"
      ]
    },
    {
      "cell_type": "markdown",
      "source": [],
      "metadata": {
        "id": "M-mbw286UErH"
      }
    },
    {
      "cell_type": "markdown",
      "metadata": {
        "id": "MIDLi7CNR034"
      },
      "source": [
        "---\n",
        "### Exercise 1 - print current date and time\n",
        "\n",
        "Write a function that will return the date and time now.  The caller will print it.  \n",
        "\n",
        "*Hint:  the format has been added for you, the other exercises will follow a similar format.   Always remember to import datetime from datetime as shown below*"
      ]
    },
    {
      "cell_type": "code",
      "metadata": {
        "id": "gS6GJdXbQfHp",
        "outputId": "9ccb7e82-c5af-4731-b752-2fddef586b89",
        "colab": {
          "base_uri": "https://localhost:8080/"
        }
      },
      "source": [
        "from datetime import datetime\n",
        "\n",
        "def get_current_datetime():\n",
        "    return datetime.now()\n",
        "print(get_current_datetime())"
      ],
      "execution_count": 20,
      "outputs": [
        {
          "output_type": "stream",
          "name": "stdout",
          "text": [
            "2023-06-08 00:06:43.256115\n"
          ]
        }
      ]
    },
    {
      "cell_type": "markdown",
      "metadata": {
        "id": "Yy24sL0bUtpF"
      },
      "source": [
        "---\n",
        "Exercise 2 - print the current year\n",
        "\n",
        "Write a function that will return the current year.  The caller will print the year."
      ]
    },
    {
      "cell_type": "code",
      "metadata": {
        "id": "YqlQqPIqUtyr",
        "outputId": "97517625-3e78-467a-d5a5-2aeb76662c50",
        "colab": {
          "base_uri": "https://localhost:8080/"
        }
      },
      "source": [
        "from datetime import datetime\n",
        "\n",
        "def current_year():\n",
        "    return datetime.now().year\n",
        "\n",
        "print(current_year())\n"
      ],
      "execution_count": 13,
      "outputs": [
        {
          "output_type": "stream",
          "name": "stdout",
          "text": [
            "2023\n"
          ]
        }
      ]
    },
    {
      "cell_type": "markdown",
      "metadata": {
        "id": "FzSVCaJKV1O1"
      },
      "source": [
        "---\n",
        "### Exercise 3 - print the current day of the week\n",
        "\n",
        "Write a function that will return the current day of the week.  The caller will print it."
      ]
    },
    {
      "cell_type": "code",
      "metadata": {
        "id": "OP4ZIXBWV1Yj",
        "outputId": "93acdaba-3e6e-424a-81a3-7340231f4471",
        "colab": {
          "base_uri": "https://localhost:8080/"
        }
      },
      "source": [
        "import datetime\n",
        "\n",
        "def get_current_day():\n",
        "    return datetime.datetime.now().strftime('%A')\n",
        "print(get_current_day())"
      ],
      "execution_count": 10,
      "outputs": [
        {
          "output_type": "stream",
          "name": "stdout",
          "text": [
            "Thursday\n"
          ]
        }
      ]
    },
    {
      "cell_type": "markdown",
      "metadata": {
        "id": "a8euCtdmWIDE"
      },
      "source": [
        "---\n",
        "### Exercise 4 - create a new date\n",
        "\n",
        "When new notices are added to the app, an end date will be added so that the notice is not displayed after its expiry date.  Write a function that will take 3 parameters, year, month, day (3 numbers that make a valid date) and will create, and return a new date.  The caller will print the date."
      ]
    },
    {
      "cell_type": "code",
      "source": [
        "from datetime import date\n",
        "\n",
        "def create_date(year, month, day):\n",
        "    new_date = date(year, month, day)\n",
        "    return new_date\n",
        "\n",
        "print(create_date(2023, 12, 31))"
      ],
      "metadata": {
        "id": "2qyNZurtTvyq",
        "outputId": "4b7c8bd6-ff49-441f-c0e9-5071742c0bd6",
        "colab": {
          "base_uri": "https://localhost:8080/"
        }
      },
      "execution_count": 9,
      "outputs": [
        {
          "output_type": "stream",
          "name": "stdout",
          "text": [
            "2023-12-31\n"
          ]
        }
      ]
    },
    {
      "cell_type": "code",
      "metadata": {
        "id": "FbOFnTwnWILN"
      },
      "source": [],
      "execution_count": null,
      "outputs": []
    },
    {
      "cell_type": "markdown",
      "metadata": {
        "id": "f5SKVuE0WfcE"
      },
      "source": [
        "---\n",
        "### Exercise 5 - create a valid date\n",
        "\n",
        "Write a function to test that the given date is valid for new notices.  The function will take 3 parameters, year, month, day (3 numbers) and will:  \n",
        "*   check that the month is between 1 and 12  \n",
        "*   check that the day is valid for the month (e.g. if the month is 2, then the day must be between 1 and 28 (don't worry about leap years for the moment)  \n",
        "*   if the date is not valid, print an error message and return None (which the caller will print)  \n",
        "*   if the date is valid, store it in a new variable, return the variable and the caller will print it."
      ]
    },
    {
      "cell_type": "code",
      "metadata": {
        "id": "gclt-f9-XfdG",
        "outputId": "6098fa88-43c4-4874-f5c4-b767f6bd4c50",
        "colab": {
          "base_uri": "https://localhost:8080/"
        }
      },
      "source": [
        "def validate_date(year, month, day):\n",
        "    if month < 1 or month > 12:\n",
        "        print(\"Error: Month must be between 1 and 12.\")\n",
        "        return None\n",
        "\n",
        "    if month in [4, 6, 9, 11] and day > 30:\n",
        "        print(\"Error: This month should have at most 30 days.\")\n",
        "        return None\n",
        "\n",
        "    if month == 2 and day > 28:\n",
        "        print(\"Error: February should have at most 28 days.\")\n",
        "        return None\n",
        "\n",
        "    if day < 1 or day > 31:\n",
        "        print(\"Error: Day must be between 1 and 31.\")\n",
        "        return None\n",
        "\n",
        "    return f\"{year}-{month:02d}-{day:02d}\"\n",
        "\n",
        "print(validate_date(2023, 6, 5))"
      ],
      "execution_count": 21,
      "outputs": [
        {
          "output_type": "stream",
          "name": "stdout",
          "text": [
            "2023-06-05\n"
          ]
        }
      ]
    },
    {
      "cell_type": "markdown",
      "metadata": {
        "id": "9BuRDi08YAO0"
      },
      "source": [
        "---\n",
        "### Exercise 6 - display parts of date/time\n",
        "\n",
        "Write a function that will take a date and print from it the following:  \n",
        "*  given date and time  \n",
        "*  year (in full) \n",
        "*  month (as a number) \n",
        "*  month name \n",
        "*  week number of the year  \n",
        "*  weekday of the week (as a number)  \n",
        "*  day of year  \n",
        "*  day of the month  \n",
        "*  day of week (as a name)  \n",
        "\n",
        "*Hint:  see w3Schools for [strftime reference](https://www.w3schools.com/python/python_datetime.asp)*\n",
        "\n"
      ]
    },
    {
      "cell_type": "code",
      "metadata": {
        "id": "zl-37Ez9ahym",
        "outputId": "a5674be0-7010-4ea9-fc99-fc63de40df50",
        "colab": {
          "base_uri": "https://localhost:8080/"
        }
      },
      "source": [
        "import datetime\n",
        "\n",
        "def print_date_details(date):\n",
        "    date_obj = datetime.datetime.strptime(date, '%Y-%m-%d')\n",
        "    print('Given date and time: ', date_obj)\n",
        "    print('Year (in full): ', date_obj.year)\n",
        "    print('Month (as a number): ', date_obj.month)\n",
        "    print('Month name: ', date_obj.strftime('%B'))\n",
        "    print('Week number of the year: ', date_obj.strftime('%U'))\n",
        "    print('Weekday of the week (as a number): ', date_obj.weekday())\n",
        "    print('Day of year: ', date_obj.strftime('%j'))\n",
        "    print('Day of the month: ', date_obj.day)\n",
        "    print('Day of week (as a name): ', date_obj.strftime('%A'))\n",
        "\n",
        "print_date_details('2023-06-05')"
      ],
      "execution_count": 22,
      "outputs": [
        {
          "output_type": "stream",
          "name": "stdout",
          "text": [
            "Given date and time:  2023-06-05 00:00:00\n",
            "Year (in full):  2023\n",
            "Month (as a number):  6\n",
            "Month name:  June\n",
            "Week number of the year:  23\n",
            "Weekday of the week (as a number):  0\n",
            "Day of year:  156\n",
            "Day of the month:  5\n",
            "Day of week (as a name):  Monday\n"
          ]
        }
      ]
    },
    {
      "cell_type": "markdown",
      "metadata": {
        "id": "_rpTIoSDaiBj"
      },
      "source": [
        "---\n",
        "### Exercise 7 - How many days live?\n",
        "\n",
        "Write a function called **calc_days_notice_valid** that will calculate how many days a notice is valid for (and therefore should be live / displayed).  It will:\n",
        "\n",
        "* automatically generate a **notice_loaded** date (today's date)\n",
        "* pass a day, month, year into the function when it is run \n",
        "* generate a date **end_date** using the datetime function and the day,month,year parameters\n",
        "* calculate and return the number of days that the notice is **live** for.\n",
        "\n",
        "**Sample Input**\n",
        "calc_days_notice_valid(29/06/2023)\n",
        "\n",
        "**Expected Output**\n",
        "If entry date was 24/5/2023:\n",
        "4 days\n"
      ]
    },
    {
      "cell_type": "code",
      "metadata": {
        "id": "1d-oXqLLb0vX",
        "outputId": "8af07d20-6a43-4856-8c6e-6288e71f2f48",
        "colab": {
          "base_uri": "https://localhost:8080/"
        }
      },
      "source": [
        "from datetime import datetime\n",
        "\n",
        "def calc_days_notice_valid(day: int, month: int, year: int) -> int:\n",
        "    notice_loaded_date = datetime.now()\n",
        "    end_date = datetime(year, month, day)\n",
        "    diff = end_date - notice_loaded_date\n",
        "    return diff.days\n",
        "\n",
        "print(calc_days_notice_valid(29, 6, 2023))"
      ],
      "execution_count": 23,
      "outputs": [
        {
          "output_type": "stream",
          "name": "stdout",
          "text": [
            "20\n"
          ]
        }
      ]
    }
  ]
}