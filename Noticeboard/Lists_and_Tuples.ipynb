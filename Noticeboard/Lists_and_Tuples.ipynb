{
  "nbformat": 4,
  "nbformat_minor": 0,
  "metadata": {
    "colab": {
      "provenance": [],
      "include_colab_link": true
    },
    "kernelspec": {
      "name": "python3",
      "display_name": "Python 3"
    },
    "language_info": {
      "name": "python"
    }
  },
  "cells": [
    {
      "cell_type": "markdown",
      "metadata": {
        "id": "view-in-github",
        "colab_type": "text"
      },
      "source": [
        "<a href=\"https://colab.research.google.com/github/elios450/Python-work-2nd-time/blob/main/Noticeboard/Lists_and_Tuples.ipynb\" target=\"_parent\"><img src=\"https://colab.research.google.com/assets/colab-badge.svg\" alt=\"Open In Colab\"/></a>"
      ]
    },
    {
      "cell_type": "markdown",
      "metadata": {
        "id": "Z-M-RCWATK71"
      },
      "source": [
        "# Lists and tuples\n",
        "\n",
        "Often we need to store a number of single items of data together so that they can be processed together. This might be because all the data refers to one person (e.g. name, age, gender, etc) OR it might be because we have a set of data (e.g. all the items that should be displayed in a drop down list, such as all the years from this year back to 100 years ago so that someone can select their year of birth)\n",
        "\n",
        "Python has a range of data structures available including:\n",
        "*   lists  \n",
        "*   tuples  \n",
        "*   dictionaries  \n",
        "*   sets\n",
        "\n",
        "This worksheet looks at lists and tuples.\n",
        "\n",
        "## List\n",
        "A list is a set of related, individual data objects, that are indexed and can be processed as a whole, as subsets or as individual items.  Lists are stored, essentially, as contiguous items in memory so that access can be as quick as possible.  However, they are mutable (they can be changed after they are created and stored) and so those mechanisms need to include extra functionality to deal with changing list sizes.\n",
        "\n",
        "## Tuple\n",
        "Essentially the same as a list but it is immutable.  Once it has been created it can't be changed.  It is stored in memory as contiguous items, with the size required being fixed right from the start.  This makes it faster to access.\n",
        "\n",
        "The code below will create two lists and a tuple.\n",
        "*   the first list contains 1000 random numbers between 1 and 100\n",
        "*   the second list is of random length (up to 5000) and each item is one of the 9 characteristics that are protected under the Equality Act in the UK.\n",
        "*   the tuple contains the 9 protected characteristics\n",
        "\n",
        "Before you start the exercises, run the code cell below.  It will generate the lists and tuple so that you can use them in the exercises.  If you need to recreate the lists again (because you have changed them and need to work on the originals, just run this cell again).\n",
        "\n",
        "***Note:***  *a list variable contains a reference to the start of the list in memory, rather than storing the list itself.  This means that if you assign the list to another variable (to make a copy), it will only copy across the reference.  If you change the copy, you change the original list.*\n",
        "\n",
        "*If you need to make a copy of the list you will need to use a loop to create a new list and copy all items across.*"
      ]
    },
    {
      "cell_type": "code",
      "metadata": {
        "id": "BDRckXeQXFMT"
      },
      "source": [
        "from random import randint, choice\n",
        "\n",
        "def get_num_list():\n",
        "  num_list = [randint(1,100) for n in range(1000)]\n",
        "  return num_list\n",
        "\n",
        "def get_protected_characteristics():\n",
        "  characteristics_tuple = ('age','disability','gender reassignment','marriage and civil partnership','pregnancy and maternity','race','religion or belief','sex','sexual orientation')\n",
        "  return characteristics_tuple\n",
        "\n",
        "def get_protected_characteristic_list(protected_characteristics):\n",
        "  char_list = [choice(protected_characteristics) for ch in range(randint(1,5000))]\n",
        "  return char_list\n",
        "\n",
        "nums = get_num_list()\n",
        "protected_characteristics = get_protected_characteristics()\n",
        "characteristics = get_protected_characteristic_list(protected_characteristics)"
      ],
      "execution_count": 2,
      "outputs": []
    },
    {
      "cell_type": "markdown",
      "metadata": {
        "id": "xXT38-4ZV45n"
      },
      "source": [
        "## The exercises below will use the lists:  \n",
        "*   **nums** (a list of between 1 and 1000 random numbers, each number is between 0 and 1000)\n",
        "*   **characteristics** (a list of 5000 random protected_characteristics)\n",
        "\n",
        "and the tuple:\n",
        "*  **protected_characteristics** (a set of the 9 protected characteristics identified in the Equality Act)\n",
        "\n",
        "## You can run the cell above any number of times to generate new lists."
      ]
    },
    {
      "cell_type": "markdown",
      "metadata": {
        "id": "Ft0dXl7fUuaK"
      },
      "source": [
        "---\n",
        "### Exercise 1 - list head, tail and shape\n",
        "\n",
        "Write a function, **describe_list()** which will:\n",
        "*  print the length of the list `nums`\n",
        "*  print the first 10 items in `nums`  \n",
        "*  print the last 5 items in `nums`\n",
        "\n",
        "**Expected output**  \n",
        "Length is between 1 and 1000  \n",
        "A list of 10 numbers between 1 and 100  \n",
        "A list of 5 numbers between 1 and 100  "
      ]
    },
    {
      "cell_type": "code",
      "metadata": {
        "id": "jUcZD7mmTJdA",
        "outputId": "498d1678-80b9-4283-df51-3beff4e63abc",
        "colab": {
          "base_uri": "https://localhost:8080/"
        }
      },
      "source": [
        "import random\n",
        "def describe_list():\n",
        "    nums = random.sample(range(1, 100), 50) # List of 50 random numbers between 1 and 100\n",
        "    print(\"Length of nums:\", len(nums))\n",
        "    print(\"First 10 items in nums:\", nums[:10])\n",
        "    print(\"Last 5 items in nums:\", nums[-5:])\n",
        "\n",
        "describe_list()"
      ],
      "execution_count": 3,
      "outputs": [
        {
          "output_type": "stream",
          "name": "stdout",
          "text": [
            "Length of nums: 50\n",
            "First 10 items in nums: [61, 35, 99, 75, 26, 30, 72, 80, 66, 55]\n",
            "Last 5 items in nums: [53, 60, 86, 85, 82]\n"
          ]
        }
      ]
    },
    {
      "cell_type": "markdown",
      "metadata": {
        "id": "yNWg08k6bXv0"
      },
      "source": [
        "---\n",
        "### Exercise 2 - show tuple items\n",
        "\n",
        "Write a function which will:\n",
        "*   use a loop to print the list of protected characteristics from the `protected_characteristics` tuple.\n"
      ]
    },
    {
      "cell_type": "code",
      "metadata": {
        "id": "P2HnCG9pb1BS",
        "outputId": "c82a9da9-a0c9-4333-a2db-a2e16732d1bf",
        "colab": {
          "base_uri": "https://localhost:8080/"
        }
      },
      "source": [
        "def print_protected_chars():\n",
        "    protected_characteristics = (\"race\", \"religion\", \"sex\", \"age\", \"disability\")\n",
        "    for char in protected_characteristics:\n",
        "        print(char)\n",
        "\n",
        "print_protected_chars()"
      ],
      "execution_count": 4,
      "outputs": [
        {
          "output_type": "stream",
          "name": "stdout",
          "text": [
            "race\n",
            "religion\n",
            "sex\n",
            "age\n",
            "disability\n"
          ]
        }
      ]
    },
    {
      "cell_type": "markdown",
      "metadata": {
        "id": "RTSuQZs4b1JU"
      },
      "source": [
        "---\n",
        "### Exercise 3 - list a random subset\n",
        "\n",
        "Write a function which will:\n",
        "*  calculate the position of the middle item in the `characteristics` list   \n",
        "(*Hint: use len() to help with this*)\n",
        "*  calculate the position of the item that is 5 places before the middle item\n",
        "*  calculate the position of the item that is 5 places after the middle item\n",
        "*  print the part of the list that includes the items from 5 places before to 5 places after.  \n",
        "\n",
        "Expected output:  \n",
        "Your list will include 10 items."
      ]
    },
    {
      "cell_type": "code",
      "metadata": {
        "id": "OwhFnH2kdC11",
        "outputId": "193c1d42-16f1-4dc6-f7fb-cfc918939af7",
        "colab": {
          "base_uri": "https://localhost:8080/"
        }
      },
      "source": [
        "def print_mid_items():\n",
        "    characteristics = list(range(1, 101)) # List of numbers from 1 to 100\n",
        "    mid_index = len(characteristics) // 2\n",
        "    print(characteristics[mid_index - 5: mid_index + 6])\n",
        "\n",
        "print_mid_items()"
      ],
      "execution_count": 5,
      "outputs": [
        {
          "output_type": "stream",
          "name": "stdout",
          "text": [
            "[46, 47, 48, 49, 50, 51, 52, 53, 54, 55, 56]\n"
          ]
        }
      ]
    },
    {
      "cell_type": "markdown",
      "metadata": {
        "id": "KS0x3oFNePI9"
      },
      "source": [
        "---\n",
        "### Exercise 4 - create a copy\n",
        "\n",
        "Write a function which will use a for loop to create a copy of the `nums` list:\n",
        "\n",
        "*   create a new, empty, list called **new_nums**  (*Hint: an empty list is [ ]*)\n",
        "*   use a `for` loop which uses the following syntax:  `for num in nums:`\n",
        "*   each time round the loop append `num` to `new_nums`  ( *`new_nums.append(num)`*)\n",
        "*   print the first 10 items of `new_nums`\n",
        "*   print the first 10 items of `nums`\n",
        "*   print the length of both lists"
      ]
    },
    {
      "cell_type": "code",
      "metadata": {
        "id": "mpK1Ip3we-uC",
        "outputId": "a2caacff-6337-41ec-a7c7-ebd99d9fdc80",
        "colab": {
          "base_uri": "https://localhost:8080/"
        }
      },
      "source": [
        "def display_new_nums():\n",
        "    nums = list(range(1, 101)) # List of numbers from 1 to 100\n",
        "    new_nums = []\n",
        "    for num in nums:\n",
        "        new_nums.append(num)\n",
        "    print(\"First 10 items of new_nums:\", new_nums[:10])\n",
        "    print(\"First 10 items of nums:\", nums[:10])\n",
        "    print(\"Length of both lists:\", len(new_nums), len(nums))\n",
        "\n",
        "display_new_nums()"
      ],
      "execution_count": 6,
      "outputs": [
        {
          "output_type": "stream",
          "name": "stdout",
          "text": [
            "First 10 items of new_nums: [1, 2, 3, 4, 5, 6, 7, 8, 9, 10]\n",
            "First 10 items of nums: [1, 2, 3, 4, 5, 6, 7, 8, 9, 10]\n",
            "Length of both lists: 100 100\n"
          ]
        }
      ]
    },
    {
      "cell_type": "markdown",
      "metadata": {
        "id": "deUIFWjRe-3G"
      },
      "source": [
        "---\n",
        "### Exercise 5 - count the occurrence of age in characteristics\n",
        "\n",
        "Write a function which will use the list method:\n",
        "\n",
        "`list_name.count(item)`\n",
        "\n",
        "to count the number of occurrences of 'age' in the `characteristics` list.  Print the result."
      ]
    },
    {
      "cell_type": "code",
      "metadata": {
        "id": "b9TrHQ9hfoIU",
        "outputId": "54544117-b604-4cbd-84f8-bf1664a935d9",
        "colab": {
          "base_uri": "https://localhost:8080/"
        }
      },
      "source": [
        "def count_age():\n",
        "    characteristics = [\"race\", \"religion\", \"sex\", \"age\", \"disability\", \"age\", \"age\"]\n",
        "    print(characteristics.count('age'))\n",
        "\n",
        "count_age()"
      ],
      "execution_count": 7,
      "outputs": [
        {
          "output_type": "stream",
          "name": "stdout",
          "text": [
            "3\n"
          ]
        }
      ]
    },
    {
      "cell_type": "markdown",
      "metadata": {
        "id": "zm2VI5RmfoSy"
      },
      "source": [
        "---\n",
        "### Exercise 6 - sort the nums list\n",
        "\n",
        "Write a function which will:\n",
        "*   call the function `get_num_list()` and store the result in a new list called **sort_nums**\n",
        "*   print the first, and last, 20 items in the `sort_nums` list\n",
        "*   use the `list_name.sort()` method to sort the `sort_nums` list into ascending order\n",
        "*   print the first, and last, 20 items again  \n",
        "*   use the `list_name.sort()` method again to sort the `sort_nums` list into descending order\n",
        "*   print the first, and last, 20 items again"
      ]
    },
    {
      "cell_type": "code",
      "metadata": {
        "id": "Fksgpj9JgWDs",
        "outputId": "a91881af-aaba-4778-a85a-38545c7aad6b",
        "colab": {
          "base_uri": "https://localhost:8080/"
        }
      },
      "source": [
        "def sort_nums():\n",
        "    nums = list(range(1, 101)) # List of numbers from 1 to 100\n",
        "    random.shuffle(nums)\n",
        "    print(\"First 20 items:\", nums[:20])\n",
        "    print(\"Last 20 items:\", nums[-20:])\n",
        "    nums.sort()\n",
        "    print(\"First 20 items (sorted ascending):\", nums[:20])\n",
        "    print(\"Last 20 items (sorted ascending):\", nums[-20:])\n",
        "    nums.sort(reverse=True)\n",
        "    print(\"First 20 items (sorted descending):\", nums[:20])\n",
        "    print(\"Last 20 items (sorted descending):\", nums[-20:])\n",
        "\n",
        "sort_nums()"
      ],
      "execution_count": 8,
      "outputs": [
        {
          "output_type": "stream",
          "name": "stdout",
          "text": [
            "First 20 items: [43, 68, 73, 97, 44, 88, 100, 46, 60, 25, 90, 15, 20, 37, 70, 99, 26, 64, 4, 86]\n",
            "Last 20 items: [31, 35, 5, 79, 56, 49, 52, 48, 47, 50, 18, 6, 93, 7, 13, 75, 1, 29, 27, 78]\n",
            "First 20 items (sorted ascending): [1, 2, 3, 4, 5, 6, 7, 8, 9, 10, 11, 12, 13, 14, 15, 16, 17, 18, 19, 20]\n",
            "Last 20 items (sorted ascending): [81, 82, 83, 84, 85, 86, 87, 88, 89, 90, 91, 92, 93, 94, 95, 96, 97, 98, 99, 100]\n",
            "First 20 items (sorted descending): [100, 99, 98, 97, 96, 95, 94, 93, 92, 91, 90, 89, 88, 87, 86, 85, 84, 83, 82, 81]\n",
            "Last 20 items (sorted descending): [20, 19, 18, 17, 16, 15, 14, 13, 12, 11, 10, 9, 8, 7, 6, 5, 4, 3, 2, 1]\n"
          ]
        }
      ]
    },
    {
      "cell_type": "markdown",
      "metadata": {
        "id": "_OF-Xuj1UrW0"
      },
      "source": [
        "---\n",
        "### Exercise 7 - get statistics (max(), min(), sum() )\n",
        "\n",
        "Write a function which will:\n",
        "*   print the maximum and minimum numbers in the `nums` list  \n",
        "*   print the sum of the `nums` list\n",
        "*   calculate and print the average of the `nums` list (using `len()` to help)"
      ]
    },
    {
      "cell_type": "code",
      "metadata": {
        "id": "9YmYMenZVGod",
        "outputId": "5495be3c-fdbf-4e47-aacd-1ad2380b3d52",
        "colab": {
          "base_uri": "https://localhost:8080/"
        }
      },
      "source": [
        "def get_stats():\n",
        "    nums = list(range(1, 101)) # List of numbers from 1 to 100\n",
        "    print(\"Max:\", max(nums))\n",
        "    print(\"Min:\", min(nums))\n",
        "    total = sum(nums)\n",
        "    print(\"Sum:\", total)\n",
        "    print(\"Average:\", total / len(nums))\n",
        "\n",
        "get_stats()"
      ],
      "execution_count": 9,
      "outputs": [
        {
          "output_type": "stream",
          "name": "stdout",
          "text": [
            "Max: 100\n",
            "Min: 1\n",
            "Sum: 5050\n",
            "Average: 50.5\n"
          ]
        }
      ]
    },
    {
      "cell_type": "markdown",
      "metadata": {
        "id": "Mn4tHQ_KVbHa"
      },
      "source": [
        "---\n",
        "### Exercise 8 - percentage difference\n",
        "\n",
        "Write a function which will:\n",
        "*   generate a new list called **get_new_num_stats** using `get_num_list()`\n",
        "*   calculate and print the percentage difference between the first number in each list (as a percentage of the number in the nums list) (*Hint*:  find the difference between the two numbers, divide the difference by the number in `nums` and multiply by 100)\n",
        "*   calculate and print the percentage difference between the last numbers in each list in the same way\n",
        "*   calculate and print the percentage difference between the middle numbers in each list in the same way.\n",
        "*   calculate and print the percentage difference between the sums of each list in the same way"
      ]
    },
    {
      "cell_type": "code",
      "metadata": {
        "id": "nJCQjZIeZL0e",
        "outputId": "6c6615ee-a704-4db9-e873-21c566c2aab7",
        "colab": {
          "base_uri": "https://localhost:8080/"
        }
      },
      "source": [
        "def get_new_num_stats():\n",
        "    nums = list(range(1, 101)) # List of numbers from 1 to 100\n",
        "    new_nums = list(range(1, 201)) # List of numbers from 1 to 200\n",
        "\n",
        "    def percent_diff(a, b):\n",
        "        return ((b - a) / a) * 100\n",
        "\n",
        "    print(\"Percentage difference between first numbers:\", percent_diff(nums[0], new_nums[0]))\n",
        "    print(\"Percentage difference between last numbers:\", percent_diff(nums[-1], new_nums[-1]))\n",
        "    print(\"Percentage difference between middle numbers:\", percent_diff(nums[len(nums)//2], new_nums[len(new_nums)//2]))\n",
        "    print(\"Percentage difference between sums:\", percent_diff(sum(nums), sum(new_nums)))\n",
        "\n",
        "get_new_num_stats()"
      ],
      "execution_count": 10,
      "outputs": [
        {
          "output_type": "stream",
          "name": "stdout",
          "text": [
            "Percentage difference between first numbers: 0.0\n",
            "Percentage difference between last numbers: 100.0\n",
            "Percentage difference between middle numbers: 98.0392156862745\n",
            "Percentage difference between sums: 298.019801980198\n"
          ]
        }
      ]
    },
    {
      "cell_type": "markdown",
      "metadata": {
        "id": "pQV2NO8umBSk"
      },
      "source": [
        "# Reflection\n",
        "----\n",
        "\n",
        "## What you learnt through completing this notebook?"
      ]
    },
    {
      "cell_type": "markdown",
      "metadata": {
        "id": "NUVvt2r0mCKq"
      },
      "source": [
        "Your answer:"
      ]
    },
    {
      "cell_type": "markdown",
      "metadata": {
        "id": "SOrbWOuFmObq"
      },
      "source": [
        "## What caused you the most difficulty?"
      ]
    },
    {
      "cell_type": "markdown",
      "metadata": {
        "id": "G_eGng1GmO78"
      },
      "source": [
        "Your answer:"
      ]
    }
  ]
}